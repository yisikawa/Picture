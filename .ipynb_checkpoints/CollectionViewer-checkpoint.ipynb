{
 "cells": [
  {
   "cell_type": "code",
   "execution_count": 1,
   "id": "d98d5be1-24ae-4cca-8db0-cf062bea2a46",
   "metadata": {},
   "outputs": [],
   "source": [
    "import os\n",
    "import time\n",
    "import glob\n",
    "from PIL import Image\n",
    "import io\n",
    "import matplotlib.pyplot as plt\n",
    "import numpy as np\n",
    "import requests\n",
    "import pandas as pd\n",
    "from selenium import webdriver\n",
    "import chromedriver_binary"
   ]
  },
  {
   "cell_type": "code",
   "execution_count": 4,
   "id": "c39d0761-4e57-47db-8c9a-a60fb1aa5b09",
   "metadata": {},
   "outputs": [],
   "source": [
    "url = 'https://www.dmm.co.jp/digital/videoa/'\n",
    "driver = webdriver.Chrome()\n",
    "driver.get(url)\n",
    "driver.find_element_by_link_text(\"はい\").click()"
   ]
  },
  {
   "cell_type": "code",
   "execution_count": null,
   "id": "7f2140e9-5060-4f71-b258-2342563c6dde",
   "metadata": {},
   "outputs": [],
   "source": [
    "df = pd.read_csv('search/超爆乳-人妻.csv')"
   ]
  },
  {
   "cell_type": "code",
   "execution_count": 22,
   "id": "133e53d5-417f-4fae-b8fd-2224966b8b9c",
   "metadata": {},
   "outputs": [],
   "source": [
    "links = df['Link'].tolist()\n",
    "for link in links:\n",
    "    driver.get(link)\n",
    "    try:\n",
    "        items = driver.find_element_by_id(\"sample-image-block\").find_elements_by_tag_name(\"a\")\n",
    "    except :\n",
    "        continue\n",
    "    for item in items:\n",
    "        name = item.get_attribute('name')\n",
    "        if not name :\n",
    "            continue\n",
    "        item.click()\n",
    "        time.sleep(2)\n",
    "        close = driver.find_element_by_id(\"close2\")\n",
    "        if close != None :\n",
    "            close.click()"
   ]
  },
  {
   "cell_type": "code",
   "execution_count": null,
   "id": "dcc41f46-f1de-44ad-b260-0dea6f64bf69",
   "metadata": {},
   "outputs": [],
   "source": []
  }
 ],
 "metadata": {
  "kernelspec": {
   "display_name": "Python 3 (ipykernel)",
   "language": "python",
   "name": "python3"
  },
  "language_info": {
   "codemirror_mode": {
    "name": "ipython",
    "version": 3
   },
   "file_extension": ".py",
   "mimetype": "text/x-python",
   "name": "python",
   "nbconvert_exporter": "python",
   "pygments_lexer": "ipython3",
   "version": "3.7.9"
  }
 },
 "nbformat": 4,
 "nbformat_minor": 5
}
