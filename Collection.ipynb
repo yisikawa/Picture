{
 "cells": [
  {
   "cell_type": "code",
   "execution_count": 5,
   "id": "c306edcd-6a61-4e21-a56c-9338d972d9ae",
   "metadata": {},
   "outputs": [],
   "source": [
    "import os\n",
    "import time\n",
    "import glob\n",
    "from PIL import Image\n",
    "import io\n",
    "import numpy as np\n",
    "import requests\n",
    "import pandas as pd\n",
    "from selenium import webdriver\n",
    "import chromedriver_binary"
   ]
  },
  {
   "cell_type": "code",
   "execution_count": 6,
   "id": "3e0064f9-d375-438a-a295-b395110b43e9",
   "metadata": {},
   "outputs": [],
   "source": [
    "driver = webdriver.Chrome()\n",
    "driver.get('https://www.dmm.co.jp/digital/videoa/')\n",
    "driver.find_element_by_link_text(\"はい\").click()"
   ]
  },
  {
   "cell_type": "code",
   "execution_count": 8,
   "id": "d981e10c-a547-48c5-b526-9d7bf0387103",
   "metadata": {},
   "outputs": [],
   "source": [
    "files = glob.glob('data/*.csv')\n",
    "for file in files:\n",
    "    df = pd.read_csv(file)\n",
    "    # if df['Title'].count()!=50:\n",
    "    #     continue\n",
    "    links = df['Link'].tolist()\n",
    "    dir = 'actress/'+os.path.basename(file).split('.')[0]\n",
    "    os.makedirs(dir,exist_ok=True)\n",
    "\n",
    "    for i,link in enumerate(links):\n",
    "        driver.get(link)\n",
    "        try:\n",
    "            elements = driver.find_element_by_id(\"sample-image-block\").find_elements_by_tag_name(\"a\")\n",
    "        except :\n",
    "            continue\n",
    "        for j,element in enumerate(elements):\n",
    "            name = element.get_attribute('name')\n",
    "            if not name :\n",
    "                continue\n",
    "            try :\n",
    "                element.click()\n",
    "            except :\n",
    "                close = driver.find_element_by_id(\"close2\")\n",
    "                close.click()\n",
    "                continue\n",
    "            time.sleep(1)\n",
    "            src = driver.find_element_by_id(\"preview-image\").get_attribute('src')\n",
    "            img = Image.open(io.BytesIO(requests.get(src).content))\n",
    "            try :\n",
    "                img.save(dir+f'/sample{i+1}-{j+1}.jpg')\n",
    "            except OSError :\n",
    "                pass\n",
    "            else :\n",
    "                close = driver.find_element_by_id(\"close2\")\n",
    "                close.click()"
   ]
  },
  {
   "cell_type": "code",
   "execution_count": 9,
   "id": "fb48c754-7a61-454d-8f15-e380f1ee311f",
   "metadata": {},
   "outputs": [],
   "source": [
    "driver.quit()"
   ]
  },
  {
   "cell_type": "code",
   "execution_count": null,
   "id": "fb14061e-4bd0-42c3-83b4-72c7e7d38c33",
   "metadata": {},
   "outputs": [],
   "source": []
  },
  {
   "cell_type": "code",
   "execution_count": null,
   "id": "632e2fad-1567-43ac-ae40-972651d726b4",
   "metadata": {},
   "outputs": [],
   "source": []
  },
  {
   "cell_type": "code",
   "execution_count": null,
   "id": "b1b876b3-14bf-4ab7-9377-8d9849dac38f",
   "metadata": {},
   "outputs": [],
   "source": []
  }
 ],
 "metadata": {
  "kernelspec": {
   "display_name": "Python 3 (ipykernel)",
   "language": "python",
   "name": "python3"
  },
  "language_info": {
   "codemirror_mode": {
    "name": "ipython",
    "version": 3
   },
   "file_extension": ".py",
   "mimetype": "text/x-python",
   "name": "python",
   "nbconvert_exporter": "python",
   "pygments_lexer": "ipython3",
   "version": "3.7.9"
  }
 },
 "nbformat": 4,
 "nbformat_minor": 5
}
