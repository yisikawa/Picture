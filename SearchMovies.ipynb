{
 "cells": [
  {
   "cell_type": "code",
   "execution_count": 1,
   "id": "c306edcd-6a61-4e21-a56c-9338d972d9ae",
   "metadata": {},
   "outputs": [],
   "source": [
    "import os\n",
    "import time\n",
    "import requests\n",
    "import pandas as pd\n",
    "from selenium import webdriver\n",
    "import chromedriver_binary"
   ]
  },
  {
   "cell_type": "code",
   "execution_count": 2,
   "id": "3e0064f9-d375-438a-a295-b395110b43e9",
   "metadata": {},
   "outputs": [],
   "source": [
    "# url = 'https://www.dmm.co.jp/digital/videoa/'\n",
    "url = 'https://www.dmm.co.jp/litevideo/'\n",
    "driver = webdriver.Chrome()\n",
    "driver.get(url)\n",
    "driver.find_element_by_link_text(\"はい\").click()"
   ]
  },
  {
   "cell_type": "code",
   "execution_count": 4,
   "id": "3aff3ee4-2805-4f3a-99bc-0f2a6842d538",
   "metadata": {},
   "outputs": [
    {
     "name": "stdin",
     "output_type": "stream",
     "text": [
      "キーワードからさがす 麻生いちか\n"
     ]
    }
   ],
   "source": [
    "driver.get(url)\n",
    "search_bar = driver.find_element_by_name(\"searchstr\")\n",
    "text = input('キーワードからさがす')\n",
    "search_bar.send_keys(text)\n",
    "search_bar.submit()"
   ]
  },
  {
   "cell_type": "code",
   "execution_count": 4,
   "id": "8150d45e-fcc2-46b6-85ba-123b32914e4b",
   "metadata": {
    "tags": []
   },
   "outputs": [],
   "source": [
    "def collect_search(name,url):\n",
    "    data = {'Title': [],\n",
    "        'Image':[],\n",
    "        'Link':[]}\n",
    "    df = pd.DataFrame(data)\n",
    "    driver.get(url)\n",
    "    ninzu = driver.find_element_by_class_name('list-boxcaptside.list-boxpagenation').text\n",
    "    num = -(-int(ninzu.split(\"\\u3000\")[0][0:-5].replace(',',''))//30)\n",
    "    for i in range(num):\n",
    "        link = url+'/page='+str(i+1)+'/'\n",
    "        driver.get(link)\n",
    "        elements = driver.find_element_by_class_name('d-item').find_elements_by_tag_name('img')\n",
    "        for element in elements:\n",
    "            src = element.get_attribute('src')\n",
    "            alt = element.get_attribute('alt')\n",
    "            link = element.find_element_by_xpath('../..').get_attribute('href')\n",
    "            se = pd.Series([alt,src,link],['Title','Image','Link'])\n",
    "            df = df.append(se, ignore_index=True)\n",
    "    df.to_csv('../Picture/data/'+name+'.csv',index=False)   "
   ]
  },
  {
   "cell_type": "code",
   "execution_count": 5,
   "id": "16acdeb9-9c9b-46d3-9643-0d4be1df44d9",
   "metadata": {
    "tags": []
   },
   "outputs": [],
   "source": [
    "collect_search(text,driver.current_url)"
   ]
  },
  {
   "cell_type": "code",
   "execution_count": 6,
   "id": "079eca86-c6d4-41b7-a113-4fa7e3b4dc37",
   "metadata": {},
   "outputs": [],
   "source": [
    "file = f'data/{text}.csv'\n",
    "df = pd.read_csv(file)\n",
    "folders = os.path.basename(file).split('.')\n",
    "os.makedirs('movie/'+folders[0])"
   ]
  },
  {
   "cell_type": "code",
   "execution_count": 7,
   "id": "b6360bd0-fe31-4195-86ba-c1be5d06dfbd",
   "metadata": {},
   "outputs": [],
   "source": [
    "links = df['Link'].tolist()\n",
    "for i,link in enumerate(links):\n",
    "    driver.get(link)\n",
    "    iframes = driver.find_elements_by_tag_name('iframe')\n",
    "    if len(iframes) < 2:\n",
    "        continue\n",
    "    src = iframes[1].get_property('src')\n",
    "    driver.get(src)\n",
    "    src = driver.find_element_by_tag_name('video').get_attribute('src')\n",
    "    name = os.path.basename(src)\n",
    "    res = requests.get(src)\n",
    "    with open('movie/'+folders[0]+'/'+name, 'wb') as f:\n",
    "        f.write(res.content)"
   ]
  },
  {
   "cell_type": "code",
   "execution_count": 5,
   "id": "fb48c754-7a61-454d-8f15-e380f1ee311f",
   "metadata": {},
   "outputs": [],
   "source": [
    "driver.quit()"
   ]
  },
  {
   "cell_type": "code",
   "execution_count": null,
   "id": "6175293d-ac24-4089-ad69-9bcfa4c1a7fd",
   "metadata": {},
   "outputs": [],
   "source": []
  }
 ],
 "metadata": {
  "kernelspec": {
   "display_name": "Python 3 (ipykernel)",
   "language": "python",
   "name": "python3"
  },
  "language_info": {
   "codemirror_mode": {
    "name": "ipython",
    "version": 3
   },
   "file_extension": ".py",
   "mimetype": "text/x-python",
   "name": "python",
   "nbconvert_exporter": "python",
   "pygments_lexer": "ipython3",
   "version": "3.7.9"
  }
 },
 "nbformat": 4,
 "nbformat_minor": 5
}
