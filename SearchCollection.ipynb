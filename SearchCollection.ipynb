{
 "cells": [
  {
   "cell_type": "code",
   "execution_count": null,
   "id": "c306edcd-6a61-4e21-a56c-9338d972d9ae",
   "metadata": {},
   "outputs": [],
   "source": [
    "import os\n",
    "import time\n",
    "import pandas as pd\n",
    "from selenium import webdriver\n",
    "import chromedriver_binary"
   ]
  },
  {
   "cell_type": "code",
   "execution_count": null,
   "id": "3e0064f9-d375-438a-a295-b395110b43e9",
   "metadata": {},
   "outputs": [],
   "source": [
    "url = 'https://www.dmm.co.jp/digital/videoa/'\n",
    "# url = 'https://www.dmm.co.jp/litevideo/'\n",
    "driver = webdriver.Chrome()\n",
    "driver.get(url)\n",
    "driver.find_element_by_link_text(\"はい\").click()"
   ]
  },
  {
   "cell_type": "code",
   "execution_count": null,
   "id": "3aff3ee4-2805-4f3a-99bc-0f2a6842d538",
   "metadata": {},
   "outputs": [],
   "source": [
    "driver.get(url)\n",
    "search_bar = driver.find_element_by_name(\"searchstr\")\n",
    "text = input('キーワードからさがす')\n",
    "search_bar.send_keys(text)\n",
    "search_bar.submit()"
   ]
  },
  {
   "cell_type": "code",
   "execution_count": null,
   "id": "8150d45e-fcc2-46b6-85ba-123b32914e4b",
   "metadata": {},
   "outputs": [],
   "source": [
    "def collect_search(name,url):\n",
    "    data = {'Title': [],\n",
    "        'Rate':[],\n",
    "        'Image':[],\n",
    "        'Link':[]}\n",
    "    df = pd.DataFrame(data)\n",
    "    driver.get(url)\n",
    "    ninzu = driver.find_element_by_class_name('list-boxcaptside.list-boxpagenation').text\n",
    "    num = -(-int(ninzu.split(\"\\u3000\")[0][0:-5].replace(',',''))//120)\n",
    "    turl = url.split('?')\n",
    "    turl[1] = '?'+turl[1]\n",
    "    for i in range(num):\n",
    "        if i==0 :\n",
    "            tlink = turl[0]+turl[1]\n",
    "        else :\n",
    "            tlink = turl[0]+'page='+str(i+1)+'/'+turl[1]\n",
    "        driver.get(tlink)\n",
    "        elements = driver.find_element_by_class_name('d-item').find_elements_by_tag_name('img')\n",
    "        for element in elements:\n",
    "            src = element.get_attribute('src')\n",
    "            alt = element.get_attribute('alt')\n",
    "            rate = element.find_element_by_xpath('../../../..').find_element_by_class_name('rate').text\n",
    "            link = element.find_element_by_xpath('../..').get_attribute('href')\n",
    "            se = pd.Series([alt,rate,src,link],['Title','Rate','Image','Link'])\n",
    "            df = df.append(se, ignore_index=True)\n",
    "    df.to_csv('../Picture/search/'+name+'.csv',index=False)   "
   ]
  },
  {
   "cell_type": "code",
   "execution_count": null,
   "id": "16acdeb9-9c9b-46d3-9643-0d4be1df44d9",
   "metadata": {},
   "outputs": [],
   "source": [
    "collect_search(text,driver.current_url)"
   ]
  },
  {
   "cell_type": "code",
   "execution_count": null,
   "id": "fb48c754-7a61-454d-8f15-e380f1ee311f",
   "metadata": {},
   "outputs": [],
   "source": [
    "driver.quit()"
   ]
  },
  {
   "cell_type": "code",
   "execution_count": null,
   "id": "a29201ec-f3ed-4b47-894f-43c901da074a",
   "metadata": {},
   "outputs": [],
   "source": []
  }
 ],
 "metadata": {
  "kernelspec": {
   "display_name": "Python 3 (ipykernel)",
   "language": "python",
   "name": "python3"
  },
  "language_info": {
   "codemirror_mode": {
    "name": "ipython",
    "version": 3
   },
   "file_extension": ".py",
   "mimetype": "text/x-python",
   "name": "python",
   "nbconvert_exporter": "python",
   "pygments_lexer": "ipython3",
   "version": "3.7.9"
  }
 },
 "nbformat": 4,
 "nbformat_minor": 5
}
