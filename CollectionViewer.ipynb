{
 "cells": [
  {
   "cell_type": "code",
   "execution_count": 1,
   "id": "d98d5be1-24ae-4cca-8db0-cf062bea2a46",
   "metadata": {},
   "outputs": [],
   "source": [
    "import os\n",
    "import time\n",
    "import glob\n",
    "from PIL import Image\n",
    "import io\n",
    "import matplotlib.pyplot as plt\n",
    "import numpy as np\n",
    "import requests\n",
    "import pandas as pd\n",
    "from selenium import webdriver\n",
    "import chromedriver_binary"
   ]
  },
  {
   "cell_type": "code",
   "execution_count": 2,
   "id": "c39d0761-4e57-47db-8c9a-a60fb1aa5b09",
   "metadata": {},
   "outputs": [],
   "source": [
    "url = 'https://www.dmm.co.jp/digital/videoa/'\n",
    "driver = webdriver.Chrome()\n",
    "driver.get(url)\n",
    "driver.find_element_by_link_text(\"はい\").click()"
   ]
  },
  {
   "cell_type": "code",
   "execution_count": 3,
   "id": "7f2140e9-5060-4f71-b258-2342563c6dde",
   "metadata": {},
   "outputs": [],
   "source": [
    "df = pd.read_csv('data/神宮寺ナオ.csv')"
   ]
  },
  {
   "cell_type": "code",
   "execution_count": 4,
   "id": "133e53d5-417f-4fae-b8fd-2224966b8b9c",
   "metadata": {},
   "outputs": [
    {
     "ename": "KeyboardInterrupt",
     "evalue": "",
     "output_type": "error",
     "traceback": [
      "\u001b[1;31m---------------------------------------------------------------------------\u001b[0m",
      "\u001b[1;31mKeyboardInterrupt\u001b[0m                         Traceback (most recent call last)",
      "\u001b[1;32m~\\AppData\\Local\\Temp/ipykernel_12988/736413805.py\u001b[0m in \u001b[0;36m<module>\u001b[1;34m\u001b[0m\n\u001b[0;32m     11\u001b[0m             \u001b[1;32mcontinue\u001b[0m\u001b[1;33m\u001b[0m\u001b[1;33m\u001b[0m\u001b[0m\n\u001b[0;32m     12\u001b[0m         \u001b[0mitem\u001b[0m\u001b[1;33m.\u001b[0m\u001b[0mclick\u001b[0m\u001b[1;33m(\u001b[0m\u001b[1;33m)\u001b[0m\u001b[1;33m\u001b[0m\u001b[1;33m\u001b[0m\u001b[0m\n\u001b[1;32m---> 13\u001b[1;33m         \u001b[0mtime\u001b[0m\u001b[1;33m.\u001b[0m\u001b[0msleep\u001b[0m\u001b[1;33m(\u001b[0m\u001b[1;36m2\u001b[0m\u001b[1;33m)\u001b[0m\u001b[1;33m\u001b[0m\u001b[1;33m\u001b[0m\u001b[0m\n\u001b[0m\u001b[0;32m     14\u001b[0m         \u001b[0mclose\u001b[0m \u001b[1;33m=\u001b[0m \u001b[0mdriver\u001b[0m\u001b[1;33m.\u001b[0m\u001b[0mfind_element_by_id\u001b[0m\u001b[1;33m(\u001b[0m\u001b[1;34m\"close2\"\u001b[0m\u001b[1;33m)\u001b[0m\u001b[1;33m\u001b[0m\u001b[1;33m\u001b[0m\u001b[0m\n\u001b[0;32m     15\u001b[0m         \u001b[1;32mif\u001b[0m \u001b[0mclose\u001b[0m \u001b[1;33m!=\u001b[0m \u001b[1;32mNone\u001b[0m \u001b[1;33m:\u001b[0m\u001b[1;33m\u001b[0m\u001b[1;33m\u001b[0m\u001b[0m\n",
      "\u001b[1;31mKeyboardInterrupt\u001b[0m: "
     ]
    }
   ],
   "source": [
    "links = df['Link'].tolist()\n",
    "for link in links:\n",
    "    driver.get(link)\n",
    "    try:\n",
    "        items = driver.find_element_by_id(\"sample-image-block\").find_elements_by_tag_name(\"a\")\n",
    "    except :\n",
    "        continue\n",
    "    for item in items:\n",
    "        name = item.get_attribute('name')\n",
    "        if not name :\n",
    "            continue\n",
    "        item.click()\n",
    "        time.sleep(2)\n",
    "        close = driver.find_element_by_id(\"close2\")\n",
    "        if close != None :\n",
    "            close.click()"
   ]
  },
  {
   "cell_type": "code",
   "execution_count": null,
   "id": "dcc41f46-f1de-44ad-b260-0dea6f64bf69",
   "metadata": {},
   "outputs": [],
   "source": []
  }
 ],
 "metadata": {
  "kernelspec": {
   "display_name": "Python 3 (ipykernel)",
   "language": "python",
   "name": "python3"
  },
  "language_info": {
   "codemirror_mode": {
    "name": "ipython",
    "version": 3
   },
   "file_extension": ".py",
   "mimetype": "text/x-python",
   "name": "python",
   "nbconvert_exporter": "python",
   "pygments_lexer": "ipython3",
   "version": "3.7.9"
  }
 },
 "nbformat": 4,
 "nbformat_minor": 5
}
