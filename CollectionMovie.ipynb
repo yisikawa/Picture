{
 "cells": [
  {
   "cell_type": "code",
   "execution_count": 16,
   "id": "d98d5be1-24ae-4cca-8db0-cf062bea2a46",
   "metadata": {
    "tags": []
   },
   "outputs": [],
   "source": [
    "import os\n",
    "from glob import glob\n",
    "import requests\n",
    "import pandas as pd\n",
    "from selenium import webdriver\n",
    "import chromedriver_binary"
   ]
  },
  {
   "cell_type": "code",
   "execution_count": 17,
   "id": "acc0e4b6-5e97-420b-81a8-ff5cfd4bd733",
   "metadata": {},
   "outputs": [],
   "source": [
    "url = 'https://www.dmm.co.jp/digital/videoa/'\n",
    "driver = webdriver.Chrome()\n",
    "driver.get(url)\n",
    "driver.find_element_by_link_text(\"はい\").click()"
   ]
  },
  {
   "cell_type": "code",
   "execution_count": 18,
   "id": "7f2140e9-5060-4f71-b258-2342563c6dde",
   "metadata": {
    "tags": []
   },
   "outputs": [],
   "source": [
    "files = glob('data/姫咲はな*.csv')\n",
    "df = pd.read_csv(files[0])\n",
    "folders = os.path.basename(files[0]).split('.')\n",
    "os.makedirs('movie/'+folders[0])"
   ]
  },
  {
   "cell_type": "code",
   "execution_count": 19,
   "id": "133e53d5-417f-4fae-b8fd-2224966b8b9c",
   "metadata": {
    "tags": []
   },
   "outputs": [],
   "source": [
    "links = df['Link'].tolist()\n",
    "for i,link in enumerate(links):\n",
    "    driver.get(link)\n",
    "    iframes = driver.find_elements_by_tag_name('iframe')\n",
    "    if len(iframes) < 2:\n",
    "        continue\n",
    "    src = iframes[1].get_property('src')\n",
    "    driver.get(src)\n",
    "    src = driver.find_element_by_tag_name('video').get_attribute('src')\n",
    "    name = os.path.basename(src)\n",
    "    res = requests.get(src)\n",
    "    with open('movie/'+folders[0]+'/'+name, 'wb') as f:\n",
    "        f.write(res.content)"
   ]
  },
  {
   "cell_type": "code",
   "execution_count": 20,
   "id": "dcc41f46-f1de-44ad-b260-0dea6f64bf69",
   "metadata": {},
   "outputs": [],
   "source": [
    "driver.quit()"
   ]
  },
  {
   "cell_type": "code",
   "execution_count": null,
   "id": "aecc0748-e801-4291-8cf6-0fe0d86f59cf",
   "metadata": {},
   "outputs": [],
   "source": []
  },
  {
   "cell_type": "code",
   "execution_count": null,
   "id": "d98e748b-cc66-47c4-bab8-44dfd3696455",
   "metadata": {},
   "outputs": [],
   "source": []
  }
 ],
 "metadata": {
  "kernelspec": {
   "display_name": "Python 3 (ipykernel)",
   "language": "python",
   "name": "python3"
  },
  "language_info": {
   "codemirror_mode": {
    "name": "ipython",
    "version": 3
   },
   "file_extension": ".py",
   "mimetype": "text/x-python",
   "name": "python",
   "nbconvert_exporter": "python",
   "pygments_lexer": "ipython3",
   "version": "3.7.9"
  }
 },
 "nbformat": 4,
 "nbformat_minor": 5
}
