{
 "cells": [
  {
   "cell_type": "code",
   "execution_count": 12,
   "id": "c306edcd-6a61-4e21-a56c-9338d972d9ae",
   "metadata": {},
   "outputs": [],
   "source": [
    "from PIL import Image\n",
    "import io\n",
    "import matplotlib.pyplot as plt\n",
    "import numpy as np\n",
    "import requests\n",
    "import pandas as pd"
   ]
  },
  {
   "cell_type": "code",
   "execution_count": 2,
   "id": "bbe113cb-bea8-4517-98cb-a8d77510d0a0",
   "metadata": {},
   "outputs": [],
   "source": [
    "df = pd.read_csv('篠田ゆう.csv')"
   ]
  },
  {
   "cell_type": "code",
   "execution_count": 3,
   "id": "b1723c5b-e61e-4c74-946c-93e6f40085b7",
   "metadata": {},
   "outputs": [],
   "source": [
    "images = df['Image'].tolist()\n",
    "links = df['Link'].tolist()"
   ]
  },
  {
   "cell_type": "code",
   "execution_count": 31,
   "id": "3e0064f9-d375-438a-a295-b395110b43e9",
   "metadata": {},
   "outputs": [],
   "source": [
    "from selenium import webdriver\n",
    "\n",
    "import chromedriver_binary\n",
    "from selenium.webdriver.chrome.options import Options\n",
    "\n",
    "options = Options()\n",
    "# options.add_argument('--headless')\n",
    "driver = webdriver.Chrome(options=options)\n",
    "\n",
    "driver.get(links[11])\n",
    "driver.find_element_by_link_text(\"はい\").click()"
   ]
  },
  {
   "cell_type": "code",
   "execution_count": null,
   "id": "2d246619-d7e6-433b-8a57-0a0c15408b7a",
   "metadata": {},
   "outputs": [],
   "source": [
    "import time\n",
    "driver.get(links[0])\n",
    "elements = driver.find_element_by_id(\"sample-image-block\").find_elements_by_tag_name(\"a\")\n",
    "elements[0].click()\n",
    "time.sleep(3)\n",
    "src = driver.find_element_by_id(\"preview-image\").get_attribute('src')\n",
    "img = Image.open(io.BytesIO(requests.get(src).content))\n",
    "plt.imshow(np.array(img))\n",
    "plt.axis('off')\n",
    "close = driver.find_element_by_id(\"close2\")\n",
    "close.click()"
   ]
  },
  {
   "cell_type": "code",
   "execution_count": null,
   "id": "34bc2e7b-f635-41fc-b19e-58eaa3fff664",
   "metadata": {},
   "outputs": [],
   "source": [
    "import time\n",
    "for i,link in enumerate(links):\n",
    "    driver.get(link)\n",
    "    try:\n",
    "        elements = driver.find_element_by_id(\"sample-image-block\").find_elements_by_tag_name(\"a\")\n",
    "    except :\n",
    "        continue\n",
    "    for j,element in enumerate(elements):\n",
    "        element.click()\n",
    "        time.sleep(1)\n",
    "        src = driver.find_element_by_id(\"preview-image\").get_attribute('src')\n",
    "        img = Image.open(io.BytesIO(requests.get(src).content))\n",
    "        try :\n",
    "            img.save(f'pict/sample{i+1}-{j+1}.jpg')\n",
    "        except OSError :\n",
    "            pass\n",
    "        else :\n",
    "            close = driver.find_element_by_id(\"close2\")\n",
    "            close.click()"
   ]
  },
  {
   "cell_type": "code",
   "execution_count": null,
   "id": "f8d931c7-ecb0-4fb4-8fd8-d3315fb4db5a",
   "metadata": {
    "tags": []
   },
   "outputs": [],
   "source": [
    "elements = driver.find_element_by_class_name(\"center\").find_elements_by_tag_name(\"a\")\n",
    "src = elements[0].get_attribute('href')\n",
    "img = Image.open(io.BytesIO(requests.get(src).content))\n",
    "plt.imshow(np.array(img))\n",
    "plt.axis('off')"
   ]
  },
  {
   "cell_type": "code",
   "execution_count": null,
   "id": "a0301a60-2a95-41d6-bc4d-5c282fba7a02",
   "metadata": {},
   "outputs": [],
   "source": [
    "img = Image.open(io.BytesIO(requests.get(images[11]).content))\n",
    "plt.imshow(np.array(img))\n",
    "plt.axis('off')"
   ]
  },
  {
   "cell_type": "code",
   "execution_count": null,
   "id": "6941c7b5-3716-4b3d-a28b-06c91586f033",
   "metadata": {},
   "outputs": [],
   "source": [
    "for i,link in enumerate(links):\n",
    "    driver.get(link)\n",
    "    elements = driver.find_element_by_class_name(\"center\").find_elements_by_tag_name(\"a\")\n",
    "    src = elements[0].get_attribute('href')\n",
    "    img = Image.open(io.BytesIO(requests.get(src).content))\n",
    "    img.save(f'img/sample{i+1}.jpg')"
   ]
  },
  {
   "cell_type": "code",
   "execution_count": 28,
   "id": "a95b0773-e770-46cb-ba65-da9ba20938e1",
   "metadata": {},
   "outputs": [],
   "source": [
    "import time\n",
    "for i,image in enumerate(images):\n",
    "    img = Image.open(io.BytesIO(requests.get(image).content))\n",
    "    img.save(f'img/sample{i+1}.jpg')"
   ]
  },
  {
   "cell_type": "code",
   "execution_count": null,
   "id": "fb48c754-7a61-454d-8f15-e380f1ee311f",
   "metadata": {},
   "outputs": [],
   "source": []
  }
 ],
 "metadata": {
  "kernelspec": {
   "display_name": "Python 3 (ipykernel)",
   "language": "python",
   "name": "python3"
  },
  "language_info": {
   "codemirror_mode": {
    "name": "ipython",
    "version": 3
   },
   "file_extension": ".py",
   "mimetype": "text/x-python",
   "name": "python",
   "nbconvert_exporter": "python",
   "pygments_lexer": "ipython3",
   "version": "3.7.9"
  }
 },
 "nbformat": 4,
 "nbformat_minor": 5
}
